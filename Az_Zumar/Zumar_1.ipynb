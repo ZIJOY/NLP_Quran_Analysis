{
 "cells": [
  {
   "cell_type": "markdown",
   "metadata": {},
   "source": [
    "# 39 Az Zumar"
   ]
  },
  {
   "cell_type": "code",
   "execution_count": null,
   "metadata": {},
   "outputs": [],
   "source": [
    "ayat_1 = ['The revelation of this Book is from Allah—the Almighty, All-Wise.']\n",
    "ayat_2 = ['Indeed, We have sent down the Book to you ˹O Prophet˺ in truth, so worship Allah ˹alone˺, being sincerely devoted to Him.']\n",
    "ayat_3 = ['Indeed, sincere devotion is due ˹only˺ to Allah.n\\\n",
    "    As for those who take other lords besides Him, ˹saying,˺ “We worship them only so they may bring us closer to Allah,”n\\\n",
    "         surely Allah will judge between all regarding what they differed about.n\\\n",
    "             Allah certainly does not guide whoever persists in lying and disbelief.']\n",
    "ayat_4 = ['Had it been Allah’s Will to have offspring, He could have chosen whatever He willed of His creation.n\\\n",
    "     Glory be to Him! He is Allah—the One, the Supreme.']\n",
    "ayat_5 = ['He created the heavens and the earth for a purpose.n\\\n",
    "     He wraps the night around the day, and wraps the day around the night.n\\\n",
    "         And He has subjected the sun and the moon, each orbiting for an appointed term.n\\\n",
    "             He is truly the Almighty, Most Forgiving.']\n",
    "ayat_6 = ['He created you ˹all˺ from a single soul, then from it He made its mate.n\\\n",
    "     And He produced for you four pairs of cattle.n\\\n",
    "         He creates you in the wombs of your mothers ˹in stages˺, one development after another, in three layers of darkness.n\\\n",
    "             That is Allah—your Lord! All authority belongs to Him.n\\\n",
    "                 There is no god ˹worthy of worship˺ except Him. How can you then be turned away?']\n",
    "ayat_7 = ['If you disbelieve, then ˹know that˺ Allah is truly not in need of you, nor does He approve of disbelief from His servants.n\\\n",
    "     But if you become grateful ˹through faith˺, He will appreciate that from you.n\\\n",
    "         No soul burdened with sin will bear the burden of another.\\\n",
    "             Then to your Lord is your return, and He will inform you of what you used to do.n\\\n",
    "                 He certainly knows best what is ˹hidden˺ in the heart.']"
   ]
  }
 ],
 "metadata": {
  "language_info": {
   "name": "python"
  },
  "orig_nbformat": 4
 },
 "nbformat": 4,
 "nbformat_minor": 2
}
